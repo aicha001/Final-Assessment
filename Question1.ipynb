{
  "nbformat": 4,
  "nbformat_minor": 0,
  "metadata": {
    "colab": {
      "name": "Question1.ipynb",
      "provenance": [],
      "authorship_tag": "ABX9TyNIRLuymv9pc/lwwFlt1+ye",
      "include_colab_link": true
    },
    "kernelspec": {
      "name": "python3",
      "display_name": "Python 3"
    },
    "language_info": {
      "name": "python"
    }
  },
  "cells": [
    {
      "cell_type": "markdown",
      "metadata": {
        "id": "view-in-github",
        "colab_type": "text"
      },
      "source": [
        "<a href=\"https://colab.research.google.com/github/aicha001/Final-Assessment/blob/main/Question1.ipynb\" target=\"_parent\"><img src=\"https://colab.research.google.com/assets/colab-badge.svg\" alt=\"Open In Colab\"/></a>"
      ]
    },
    {
      "cell_type": "code",
      "execution_count": 3,
      "metadata": {
        "colab": {
          "base_uri": "https://localhost:8080/"
        },
        "id": "9euGQkOh_kox",
        "outputId": "5bb09675-07a1-41af-c532-ce536e3443fc"
      },
      "outputs": [
        {
          "output_type": "stream",
          "name": "stdout",
          "text": [
            "Exchange of Currency\n",
            "Enter (X) for American Dollar to Australian Dollar or Enter (Y) for Japanese Yen to Australian Dollar.Y\n",
            "Please enter the amount of money you would like to exchange: 7500\n",
            "Amount of money converted from Yen to Australian Dollar is A$ 75.0\n"
          ]
        }
      ],
      "source": [
        "# Title of program code\n",
        "print(\"Exchange of Currency\")\n",
        "\n",
        "#Assigning a letter to each conversion that need to be done to simplify the code.\n",
        "Exchange= input(\"Enter (X) for American Dollar to Australian Dollar or Enter (Y) for Japanese Yen to Australian Dollar.\")\n",
        "if Exchange == \"X\" :\n",
        "  ptd=float(input(\"Please enter the amount of money you would like to exchange: \"))\n",
        "  e1 = ptd * 1.38\n",
        "  e2 = round(e,2)\n",
        "\n",
        "#Displaying the amount of money converted from American Dollar to Australian Dollar.\n",
        "  print(\"Amount of money converted from American Dollar to Australian Dollar is A$\", e2)\n",
        "\n",
        "if Exchange == \"Y\" :\n",
        "  ptd=float(input(\"Please enter the amount of money you would like to exchange: \"))\n",
        "  e1 = ptd * 0.010\n",
        "  e2 = round(e1,2)\n",
        "  \n",
        "#Displaying the amount of money exchange from Japanese Yen to Australian Dollar.\n",
        "  print(\"Amount of money converted from Yen to Australian Dollar is A$\", e2)\n"
      ]
    }
  ]
}