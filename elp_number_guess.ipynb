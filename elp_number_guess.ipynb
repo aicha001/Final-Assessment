{
  "nbformat": 4,
  "nbformat_minor": 0,
  "metadata": {
    "colab": {
      "name": "elp_number_guess.ipynb",
      "provenance": [],
      "include_colab_link": true
    },
    "kernelspec": {
      "name": "python3",
      "display_name": "Python 3"
    },
    "language_info": {
      "name": "python"
    }
  },
  "cells": [
    {
      "cell_type": "markdown",
      "metadata": {
        "id": "view-in-github",
        "colab_type": "text"
      },
      "source": [
        "<a href=\"https://colab.research.google.com/github/aicha001/Final-Assessment/blob/main/elp_number_guess.ipynb\" target=\"_parent\"><img src=\"https://colab.research.google.com/assets/colab-badge.svg\" alt=\"Open In Colab\"/></a>"
      ]
    },
    {
      "cell_type": "code",
      "execution_count": 1,
      "metadata": {
        "colab": {
          "base_uri": "https://localhost:8080/"
        },
        "id": "qzvdfufMdkWc",
        "outputId": "2b40b971-5529-4326-cd38-8f973626e2bd"
      },
      "outputs": [
        {
          "output_type": "stream",
          "name": "stdout",
          "text": [
            "I am thinking of a number between 1 and 100.\n",
            "You have {i-10} guesses left. Take a guess.\n",
            "> 3\n",
            "Your guess is too low.\n",
            "You have {i-10} guesses left. Take a guess.\n",
            "> 8\n",
            "Your guess is too low.\n",
            "You have {i-10} guesses left. Take a guess.\n",
            "> 11\n",
            "Your guess is too low.\n",
            "You have {i-10} guesses left. Take a guess.\n",
            "> 101\n",
            "Your guess is too high.\n",
            "You have {i-10} guesses left. Take a guess.\n",
            "> 3\n",
            "Your guess is too low.\n",
            "You have {i-10} guesses left. Take a guess.\n",
            "> 99\n",
            "Your guess is too high.\n",
            "You have {i-10} guesses left. Take a guess.\n",
            "> 2\n",
            "Your guess is too low.\n",
            "You have {i-10} guesses left. Take a guess.\n",
            "> 33\n",
            "Your guess is too low.\n",
            "You have {i-10} guesses left. Take a guess.\n",
            "> 1000\n",
            "Your guess is too high.\n",
            "You have {i-10} guesses left. Take a guess.\n",
            "> 1011\n",
            "Your guess is too high.\n",
            "No more guesses. The number I was thinking of was 37\n"
          ]
        }
      ],
      "source": [
        "\n",
        "import random\n",
        "def askForGuess():\n",
        "  while True:\n",
        "    guess = input('> ') \n",
        "\n",
        "    if guess.isdecimal():\n",
        "      return int(guess)\n",
        "    print('Please enter a number between 1 and 100.')\n",
        "\n",
        "secretNumber = (random.randint(1, 100))\n",
        "print('I am thinking of a number between 1 and 100.')\n",
        "\n",
        "for i in range(0,10):\n",
        "    print('You have {i-10} guesses left. Take a guess.')\n",
        "\n",
        "    guess = askForGuess()\n",
        "    if guess == secretNumber:\n",
        "        break\n",
        "\n",
        "    if guess < secretNumber:\n",
        "        print('Your guess is too low.')\n",
        "    if guess > secretNumber:\n",
        "        print('Your guess is too high.')\n",
        "\n",
        "if guess == secretNumber:\n",
        "    print('You guessed my number!')\n",
        "else:\n",
        "    print('No more guesses. The number I was thinking of was', secretNumber)\n"
      ]
    },
    {
      "cell_type": "code",
      "source": [
        ""
      ],
      "metadata": {
        "id": "aOYmnplz8Uqp"
      },
      "execution_count": null,
      "outputs": []
    }
  ]
}